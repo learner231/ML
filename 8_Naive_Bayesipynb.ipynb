{
  "nbformat": 4,
  "nbformat_minor": 0,
  "metadata": {
    "colab": {
      "provenance": []
    },
    "kernelspec": {
      "name": "python3",
      "display_name": "Python 3"
    },
    "language_info": {
      "name": "python"
    }
  },
  "cells": [
    {
      "cell_type": "code",
      "execution_count": null,
      "metadata": {
        "colab": {
          "base_uri": "https://localhost:8080/"
        },
        "id": "vkTfU7_HJgB0",
        "outputId": "b83041b8-09cb-456d-ec55-6b9bd47be2d4"
      },
      "outputs": [
        {
          "output_type": "stream",
          "name": "stdout",
          "text": [
            "Prediction :  Fail\n"
          ]
        }
      ],
      "source": [
        "import pandas as pd\n",
        "import numpy as np\n",
        "from sklearn.preprocessing import LabelEncoder\n",
        "from sklearn.naive_bayes import GaussianNB\n",
        "\n",
        "dataset = pd.DataFrame({\n",
        "    'Confident':['Yes', 'Yes', 'No', 'No', 'Yes'],\n",
        "    'Studied':['No', 'No', 'Yes', 'Yes', 'Yes'],\n",
        "    'Sick':['No', 'Yes', 'Yes', 'No', 'Yes'],\n",
        "    'Result':['Fail', 'Pass', 'Fail', 'Pass', 'Pass']\n",
        "})\n",
        "\n",
        "label_encoders = {}\n",
        "for column in dataset.columns:\n",
        "    le = LabelEncoder()\n",
        "    dataset[column] = le.fit_transform(dataset[column])\n",
        "    label_encoders[column] = le\n",
        "\n",
        "X = dataset.drop(columns='Result')\n",
        "y = dataset['Result']\n",
        "\n",
        "nb = GaussianNB()\n",
        "nb.fit(X, y)\n",
        "\n",
        "test_data = pd.DataFrame({\n",
        "    'Confident' : ['Yes'],\n",
        "    'Studied' : ['No'],\n",
        "    'Sick' : ['No']\n",
        "})\n",
        "\n",
        "for column in test_data.columns:\n",
        "    test_data[column] = label_encoders[column].transform(test_data[column])\n",
        "\n",
        "prediction = nb.predict(test_data)\n",
        "predicted_label = label_encoders['Result'].inverse_transform(prediction)[0]\n",
        "print(\"Prediction : \", predicted_label)"
      ]
    }
  ]
}