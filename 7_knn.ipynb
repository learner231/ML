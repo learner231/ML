{
  "nbformat": 4,
  "nbformat_minor": 0,
  "metadata": {
    "colab": {
      "provenance": []
    },
    "kernelspec": {
      "name": "python3",
      "display_name": "Python 3"
    },
    "language_info": {
      "name": "python"
    }
  },
  "cells": [
    {
      "cell_type": "code",
      "execution_count": null,
      "metadata": {
        "colab": {
          "base_uri": "https://localhost:8080/",
          "height": 549
        },
        "id": "f3NZi2WS7GSn",
        "outputId": "fdea06bd-a385-41f7-b8ca-bbf21dfb215e"
      },
      "outputs": [
        {
          "output_type": "stream",
          "name": "stdout",
          "text": [
            "   X  Y   Class\n",
            "0  2  4  Orange\n",
            "1  4  2  Orange\n",
            "2  4  6  Orange\n",
            "3  6  4  Orange\n",
            "4  4  4    Blue\n",
            "5  6  2    Blue\n"
          ]
        },
        {
          "output_type": "display_data",
          "data": {
            "text/plain": [
              "<Figure size 600x400 with 1 Axes>"
            ],
            "image/png": "[encoded data removed]"
          },
          "metadata": {}
        },
        {
          "output_type": "stream",
          "name": "stdout",
          "text": [
            "The predicted class for point (6, 6) is :  Orange\n"
          ]
        }
      ],
      "source": [
        "import pandas as pd\n",
        "import numpy as np\n",
        "import matplotlib.pyplot as plt\n",
        "from sklearn.preprocessing import LabelEncoder\n",
        "from sklearn.neighbors import KNeighborsClassifier\n",
        "\n",
        "dataset = {\n",
        "    'X':[2, 4, 4, 6, 4, 6],\n",
        "    'Y':[4, 2, 6, 4, 4, 2],\n",
        "    'Class':['Orange', 'Orange', 'Orange', 'Orange', 'Blue','Blue']\n",
        "}\n",
        "\n",
        "df = pd.DataFrame(dataset)\n",
        "df.to_csv(\"knn_dataset.csv\", index=False)\n",
        "print(df)\n",
        "\n",
        "color_map = {\"Orange\":\"orange\", \"Blue\":\"blue\"}\n",
        "df[\"Color\"] = df[\"Class\"].map(color_map)\n",
        "\n",
        "plt.figure(figsize=(6,4))\n",
        "plt.scatter(df['X'], df['Y'], c=df['Color'], s=100, edgecolors='black')\n",
        "plt.xticks(range(0, 11, 2))\n",
        "plt.yticks(range(0, 11, 2))\n",
        "plt.xlabel('X')\n",
        "plt.ylabel('Y')\n",
        "plt.title('Scatter Plot')\n",
        "plt.grid(True)\n",
        "plt.show()\n",
        "\n",
        "X = df[['X', 'Y']]\n",
        "y = df['Class']\n",
        "\n",
        "le = LabelEncoder()\n",
        "y_encoded = le.fit_transform(y)\n",
        "\n",
        "knn = KNeighborsClassifier(n_neighbors=3)\n",
        "knn.fit(X, y_encoded)\n",
        "\n",
        "new_point = pd.DataFrame([[6, 6]], columns=['X', 'Y'])\n",
        "predicted_class = knn.predict(new_point)\n",
        "\n",
        "predicted_label = le.inverse_transform(predicted_class)[0]\n",
        "print(\"The predicted class for point (6, 6) is : \", predicted_label)"
      ]
    }
  ]
}