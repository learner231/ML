{
  "nbformat": 4,
  "nbformat_minor": 0,
  "metadata": {
    "colab": {
      "provenance": []
    },
    "kernelspec": {
      "name": "python3",
      "display_name": "Python 3"
    },
    "language_info": {
      "name": "python"
    }
  },
  "cells": [
    {
      "cell_type": "code",
      "execution_count": null,
      "metadata": {
        "colab": {
          "base_uri": "https://localhost:8080/"
        },
        "id": "jEe9ATNxJfrT",
        "outputId": "ce171dd5-6a68-4f8f-fbe7-2c1599e846ed"
      },
      "outputs": [
        {
          "output_type": "stream",
          "name": "stdout",
          "text": [
            "|--- age_income__Age_21-35 <= 0.50\n",
            "|   |--- gender_marital__Gender_Male <= 0.50\n",
            "|   |   |--- gender_marital__Marital Status_Single <= 0.50\n",
            "|   |   |   |--- age_income__Age_<21 <= 0.50\n",
            "|   |   |   |   |--- class: No\n",
            "|   |   |   |--- age_income__Age_<21 >  0.50\n",
            "|   |   |   |   |--- class: Yes\n",
            "|   |   |--- gender_marital__Marital Status_Single >  0.50\n",
            "|   |   |   |--- class: Yes\n",
            "|   |--- gender_marital__Gender_Male >  0.50\n",
            "|   |   |--- age_income__Age_>35 <= 0.50\n",
            "|   |   |   |--- class: No\n",
            "|   |   |--- age_income__Age_>35 >  0.50\n",
            "|   |   |   |--- gender_marital__Marital Status_Single <= 0.50\n",
            "|   |   |   |   |--- class: No\n",
            "|   |   |   |--- gender_marital__Marital Status_Single >  0.50\n",
            "|   |   |   |   |--- class: Yes\n",
            "|--- age_income__Age_21-35 >  0.50\n",
            "|   |--- class: Yes\n",
            "\n",
            "Prediction: Yes\n"
          ]
        }
      ],
      "source": [
        "import numpy as np\n",
        "import pandas as pd\n",
        "from sklearn.model_selection import train_test_split\n",
        "from sklearn.compose import ColumnTransformer\n",
        "from sklearn.preprocessing import OneHotEncoder\n",
        "from sklearn.tree import DecisionTreeClassifier, export_text\n",
        "from sklearn.pipeline import Pipeline\n",
        "\n",
        "data = pd.DataFrame({\n",
        "    'Age': ['<21', '<21', '21-35', '>35', '>35', '>35', '21-35', '<21', '<21', '>35', '<21', '21-35', '21-35', '>35'],\n",
        "    'Income': ['High', 'High', 'High', 'Medium', 'Low', 'Low', 'Low', 'Medium', 'Low', 'Medium', 'Medium', 'Medium', 'High', 'Medium'],\n",
        "    'Gender': ['Male', 'Male', 'Male', 'Male', 'Female', 'Female', 'Female', 'Male', 'Female', 'Female', 'Female', 'Male', 'Female', 'Male'],\n",
        "    'Marital Status': ['Single', 'Married', 'Single', 'Single', 'Single', 'Married', 'Married', 'Single', 'Married', 'Single', 'Married', 'Married', 'Single', 'Married'],\n",
        "    'Buys': ['No', 'No', 'Yes', 'Yes', 'Yes', 'No', 'Yes', 'No', 'Yes', 'Yes', 'Yes', 'Yes', 'Yes', 'No']\n",
        "})\n",
        "\n",
        "X = data.drop(columns=['Buys'])\n",
        "y = data['Buys']\n",
        "\n",
        "preprocessor = ColumnTransformer(\n",
        "    transformers=[\n",
        "        ('age_income', OneHotEncoder(), ['Age', 'Income']),\n",
        "        ('gender_marital', OneHotEncoder(), ['Gender', 'Marital Status'])\n",
        "    ])\n",
        "\n",
        "pipeline = Pipeline(steps=[\n",
        "    ('preprocessor', preprocessor),\n",
        "    ('classifier', DecisionTreeClassifier(criterion=\"entropy\", random_state=0))\n",
        "])\n",
        "\n",
        "pipeline.fit(X, y)\n",
        "\n",
        "model = pipeline.named_steps['classifier']\n",
        "tree_rules = export_text(model, feature_names=preprocessor.get_feature_names_out())\n",
        "print(tree_rules)\n",
        "\n",
        "test_sample = pd.DataFrame([{\n",
        "    'Age': '<21',\n",
        "    'Income': 'Low',\n",
        "    'Gender': 'Female',\n",
        "    'Marital Status': 'Married'\n",
        "}])\n",
        "\n",
        "prediction = pipeline.predict(test_sample)[0]\n",
        "print(\"Prediction:\", prediction)\n"
      ]
    }
  ]
}